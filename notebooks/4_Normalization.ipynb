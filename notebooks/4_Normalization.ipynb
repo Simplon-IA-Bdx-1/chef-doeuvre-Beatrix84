{
 "cells": [
  {
   "cell_type": "markdown",
   "metadata": {},
   "source": [
    "# Intro\n",
    "\n",
    "Apply normalization to re-shaped images"
   ]
  },
  {
   "cell_type": "markdown",
   "metadata": {},
   "source": [
    "# Setup "
   ]
  },
  {
   "cell_type": "code",
   "execution_count": 1,
   "metadata": {
    "cell_style": "center"
   },
   "outputs": [],
   "source": [
    "import os\n",
    "import matplotlib.pyplot as plt\n",
    "import pandas as pd\n",
    "import numpy as np\n",
    "\n",
    "import skimage\n",
    "from skimage import transform\n",
    "\n",
    "%matplotlib inline"
   ]
  },
  {
   "cell_type": "markdown",
   "metadata": {},
   "source": [
    "# Images path"
   ]
  },
  {
   "cell_type": "code",
   "execution_count": 2,
   "metadata": {},
   "outputs": [],
   "source": [
    "ad_data_dir='Documents/projet_final/project/data/sample/AD-numpyArr'\n",
    "cn_data_dir='Documents/projet_final/project/data/sample/CN-numpyArr'\n",
    "mci_data_dir='Documents/projet_final/project/data/sample/MCI-numpyArr'"
   ]
  },
  {
   "cell_type": "markdown",
   "metadata": {},
   "source": [
    "# Normalization\n",
    "\n",
    "I would normalize between -0.5 and 0.5"
   ]
  },
  {
   "cell_type": "markdown",
   "metadata": {},
   "source": [
    "## Load images and define \n",
    "* total number of pixels in the image\n",
    "* mean of the pixels in the image\n",
    "* maximum value of pixels in the image"
   ]
  },
  {
   "cell_type": "code",
   "execution_count": 3,
   "metadata": {},
   "outputs": [
    {
     "name": "stdout",
     "output_type": "stream",
     "text": [
      "138.34743505420911\n",
      "5184.964121795549\n"
     ]
    }
   ],
   "source": [
    "totalnum=[]         #total number of pixels in the image\n",
    "mean=[]             #mean of the pixels in the image\n",
    "nummax=[]           #maximum value of pixels in the image\n",
    "\n",
    "converted_shape = (21,42,42)\n",
    "\n",
    "#For AD data\n",
    "for file in os.listdir(ad_data_dir):\n",
    "    # call load_data with allow_pickle implicitly set to true\n",
    "    img = np.load(os.path.join(ad_data_dir,file),allow_pickle=True) \n",
    "    #Confiem that images are shaped\n",
    "    if(img[0][0].shape != converted_shape):\n",
    "        img[0][0] = skimage.transform.resize(img[0][0], converted_shape)\n",
    "        np.save(os.path.join(ad_data_dir,file),img)\n",
    "    #Pixels Mean  \n",
    "    mean.append(np.mean(img[0][0]))\n",
    "    #Total pixels\n",
    "    totalnum.append((img[0][0].shape[0]*img[0][0].shape[1]*img[0][0].shape[2]))\n",
    "    #Max pixels\n",
    "    nummax.append(np.max(img[0][0]))\n",
    "\n",
    "    #For CN data    \n",
    "for file in os.listdir(cn_data_dir):\n",
    "    img = np.load(os.path.join(cn_data_dir, file),allow_pickle=True)\n",
    "    if(img[0][0].shape != converted_shape):\n",
    "        img[0][0] = skimage.transform.resize(img[0][0], converted_shape)\n",
    "        np.save(os.path.join(cn_data_dir,file),img)\n",
    "    \n",
    "    mean.append(np.mean(img[0][0]))\n",
    "    totalnum.append((img[0][0].shape[0]*img[0][0].shape[1]*img[0][0].shape[2]))\n",
    "    nummax.append(np.max(img[0][0]))\n",
    "\n",
    "    #For MCI data    \n",
    "for file in os.listdir(mci_data_dir):\n",
    "    img = np.load(os.path.join(mci_data_dir, file),allow_pickle=True)\n",
    "    if(img[0][0].shape != converted_shape):\n",
    "        img[0][0] = skimage.transform.resize(img[0][0], converted_shape)\n",
    "        np.save(os.path.join(mci_data_dir,file),img)\n",
    "        \n",
    "    mean.append(np.mean(img[0][0]))\n",
    "    totalnum.append((img[0][0].shape[0]*img[0][0].shape[1]*img[0][0].shape[2]))\n",
    "    nummax.append(np.max(img[0][0]))\n",
    "\n",
    "#mean value for the full dataset\n",
    "nummean=np.vdot(mean,totalnum)/np.sum(totalnum) \n",
    "print(nummean)\n",
    "\n",
    "#max value for the full dataset\n",
    "nummax=np.max(nummax) \n",
    "print(nummax)"
   ]
  },
  {
   "cell_type": "markdown",
   "metadata": {},
   "source": [
    "## Apply normalization formula and save the new images\n",
    "\n",
    "(x-mean / max value)"
   ]
  },
  {
   "cell_type": "code",
   "execution_count": 4,
   "metadata": {},
   "outputs": [],
   "source": [
    "# Save the new images\n",
    "for file in os.listdir(ad_data_dir):\n",
    "    img = np.load(os.path.join(ad_data_dir,file),allow_pickle=True)\n",
    "    #normalisation(x-mean/max value)\n",
    "    img[0][0]=(img[0][0]-nummean)/nummax                 \n",
    "    np.save(os.path.join(ad_data_dir,file),img)\n",
    "for file in os.listdir(cn_data_dir):\n",
    "    img = np.load(os.path.join(cn_data_dir, file),allow_pickle=True)\n",
    "    img[0][0] =(img[0][0] - nummean) / nummax\n",
    "    np.save(os.path.join(cn_data_dir,file),img)\n",
    "for file in os.listdir(mci_data_dir):\n",
    "    img = np.load(os.path.join(mci_data_dir, file),allow_pickle=True)\n",
    "    img[0][0] =(img[0][0] - nummean) / nummax\n",
    "    np.save(os.path.join(mci_data_dir, file),img)"
   ]
  },
  {
   "cell_type": "markdown",
   "metadata": {},
   "source": [
    "# Visualize normalized images"
   ]
  },
  {
   "cell_type": "code",
   "execution_count": 7,
   "metadata": {},
   "outputs": [
    {
     "data": {
      "text/plain": [
       "<matplotlib.image.AxesImage at 0x21dd29df8c8>"
      ]
     },
     "execution_count": 7,
     "metadata": {},
     "output_type": "execute_result"
    },
    {
     "data": {
      "image/png": "[encoded data removed]",
      "text/plain": [
       "<Figure size 432x432 with 4 Axes>"
      ]
     },
     "metadata": {
      "needs_background": "light"
     },
     "output_type": "display_data"
    }
   ],
   "source": [
    "datanp=[]                               #images\n",
    "truenp=[]                               #labels\n",
    "\n",
    "data_dir = 'Documents/projet_final/project/data/sample/CN-numpyArr'\n",
    "for file in os.listdir(data_dir):\n",
    "    data=np.load(os.path.join(data_dir,file),allow_pickle=True)\n",
    "    datanp.append((data[0][0]))\n",
    "    truenp.append(data[0][1])\n",
    "    \n",
    "img = datanp[0]  # loading the image\n",
    "\n",
    "fig, axs1 = plt.subplots(2, 2,figsize= (6,6))\n",
    "\n",
    "fig.suptitle('Image resized to'+str(img.shape))\n",
    "i = 7\n",
    "axs1[0, 0].imshow(img[i])\n",
    "\n",
    "axs1[0, 1].imshow(img[i+1])\n",
    "\n",
    "axs1[1, 0].imshow(img[i+2])\n",
    "\n",
    "axs1[1, 1].imshow(img[i+3])\n"
   ]
  },
  {
   "cell_type": "code",
   "execution_count": 9,
   "metadata": {},
   "outputs": [
    {
     "data": {
      "text/plain": [
       "array([[[-0.02668077, -0.02668113, -0.02668001, ..., -0.02668156,\n",
       "         -0.02668237, -0.02668158],\n",
       "        [-0.0266601 , -0.02666776, -0.0266442 , ..., -0.02666211,\n",
       "         -0.02668006, -0.02666111],\n",
       "        [-0.02666398, -0.02666725, -0.02666518, ..., -0.02666649,\n",
       "         -0.02667714, -0.02666327],\n",
       "        ...,\n",
       "        [-0.02667227, -0.02664585, -0.02664473, ..., -0.02651265,\n",
       "         -0.02662798, -0.02667446],\n",
       "        [-0.0266682 , -0.02667339, -0.02667208, ..., -0.02661133,\n",
       "         -0.02665518, -0.02667755],\n",
       "        [-0.02668225, -0.02668236, -0.02668235, ..., -0.02668174,\n",
       "         -0.02668224, -0.02668239]],\n",
       "\n",
       "       [[-0.02668098, -0.0266812 , -0.02668065, ..., -0.02668048,\n",
       "         -0.02668233, -0.02668109],\n",
       "        [-0.02665778, -0.02665083, -0.02664169, ..., -0.02663593,\n",
       "         -0.02667919, -0.02664957],\n",
       "        [-0.02664216, -0.02655445, -0.02658787, ..., -0.02665233,\n",
       "         -0.02667755, -0.02666122],\n",
       "        ...,\n",
       "        [-0.02666159, -0.02663434, -0.02663878, ..., -0.02659632,\n",
       "         -0.02665153, -0.02666518],\n",
       "        [-0.02667733, -0.02667869, -0.02667798, ..., -0.02663909,\n",
       "         -0.02666935, -0.02667308],\n",
       "        [-0.02668237, -0.02668241, -0.0266824 , ..., -0.02668195,\n",
       "         -0.02668231, -0.02668236]],\n",
       "\n",
       "       [[-0.02667926, -0.02667888, -0.02668119, ..., -0.02668192,\n",
       "         -0.0266823 , -0.02668218],\n",
       "        [-0.02661848, -0.02660519, -0.0266588 , ..., -0.02666379,\n",
       "         -0.02667728, -0.02666541],\n",
       "        [-0.0266335 , -0.02661317, -0.02664574, ..., -0.02664726,\n",
       "         -0.02667855, -0.02665839],\n",
       "        ...,\n",
       "        [-0.02666061, -0.02662951, -0.02661379, ..., -0.02664014,\n",
       "         -0.02662528, -0.02663755],\n",
       "        [-0.02668066, -0.02667607, -0.02667264, ..., -0.02667511,\n",
       "         -0.02665252, -0.02665812],\n",
       "        [-0.02668241, -0.02668239, -0.02668236, ..., -0.02668237,\n",
       "         -0.02668214, -0.02668218]],\n",
       "\n",
       "       ...,\n",
       "\n",
       "       [[-0.02668243, -0.02668243, -0.02668243, ..., -0.02668243,\n",
       "         -0.02668243, -0.02668243],\n",
       "        [-0.02668243, -0.02668243, -0.02668243, ..., -0.02668243,\n",
       "         -0.02668243, -0.02668243],\n",
       "        [-0.02668243, -0.02668243, -0.02668243, ..., -0.02668243,\n",
       "         -0.02668243, -0.02668243],\n",
       "        ...,\n",
       "        [ 0.01002479,  0.0051937 ,  0.00158143, ...,  0.00789776,\n",
       "          0.01268324,  0.01709873],\n",
       "        [ 0.00356407, -0.0008577 , -0.00419265, ...,  0.00176104,\n",
       "          0.00509163,  0.00762181],\n",
       "        [-0.0253266 , -0.02553264, -0.02568503, ..., -0.02544671,\n",
       "         -0.02531692, -0.02524103]],\n",
       "\n",
       "       [[-0.02668243, -0.02668243, -0.02668243, ..., -0.02668243,\n",
       "         -0.02668243, -0.02668243],\n",
       "        [-0.02668243, -0.02668243, -0.02668243, ..., -0.02668243,\n",
       "         -0.02668243, -0.02668243],\n",
       "        [-0.02668243, -0.02668243, -0.02668243, ..., -0.02668243,\n",
       "         -0.02668243, -0.02668243],\n",
       "        ...,\n",
       "        [-0.00756198, -0.0088433 , -0.00876645, ..., -0.00915734,\n",
       "         -0.0083281 , -0.00739863],\n",
       "        [-0.01515364, -0.01618711, -0.01652499, ..., -0.01494952,\n",
       "         -0.01351042, -0.00990796],\n",
       "        [-0.02616887, -0.02624029, -0.02625951, ..., -0.02620378,\n",
       "         -0.02612839, -0.02591653]],\n",
       "\n",
       "       [[-0.02668243, -0.02668243, -0.02668243, ..., -0.02668243,\n",
       "         -0.02668243, -0.02668243],\n",
       "        [-0.02668243, -0.02668243, -0.02668243, ..., -0.02668243,\n",
       "         -0.02668243, -0.02668243],\n",
       "        [-0.02668243, -0.02668243, -0.02668243, ..., -0.02668243,\n",
       "         -0.02668243, -0.02668243],\n",
       "        ...,\n",
       "        [-0.00492786, -0.00824344, -0.01077193, ..., -0.0069032 ,\n",
       "         -0.00591371, -0.00788389],\n",
       "        [-0.01619538, -0.01689302, -0.01786958, ..., -0.01609032,\n",
       "         -0.01661752, -0.01815874],\n",
       "        [-0.02629244, -0.02631335, -0.02634499, ..., -0.02628585,\n",
       "         -0.02632755, -0.02635986]]])"
      ]
     },
     "execution_count": 9,
     "metadata": {},
     "output_type": "execute_result"
    }
   ],
   "source": [
    "img"
   ]
  },
  {
   "cell_type": "markdown",
   "metadata": {},
   "source": [
    "Try this other formula too (X − minX / maxX − minX) − 0.5"
   ]
  },
  {
   "cell_type": "code",
   "execution_count": null,
   "metadata": {},
   "outputs": [],
   "source": []
  }
 ],
 "metadata": {
  "kernelspec": {
   "display_name": "Python 3",
   "language": "python",
   "name": "python3"
  },
  "language_info": {
   "codemirror_mode": {
    "name": "ipython",
    "version": 3
   },
   "file_extension": ".py",
   "mimetype": "text/x-python",
   "name": "python",
   "nbconvert_exporter": "python",
   "pygments_lexer": "ipython3",
   "version": "3.7.9"
  },
  "toc": {
   "base_numbering": 1,
   "nav_menu": {},
   "number_sections": true,
   "sideBar": true,
   "skip_h1_title": false,
   "title_cell": "Table of Contents",
   "title_sidebar": "Contents",
   "toc_cell": false,
   "toc_position": {},
   "toc_section_display": true,
   "toc_window_display": true
  }
 },
 "nbformat": 4,
 "nbformat_minor": 4
}
