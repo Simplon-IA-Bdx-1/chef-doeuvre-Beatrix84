{
 "cells": [
  {
   "cell_type": "markdown",
   "metadata": {
    "toc": true
   },
   "source": [
    "<h1>Table of Contents<span class=\"tocSkip\"></span></h1>\n",
    "<div class=\"toc\"><ul class=\"toc-item\"><li><span><a href=\"#Intro\" data-toc-modified-id=\"Intro-1\"><span class=\"toc-item-num\">1&nbsp;&nbsp;</span>Intro</a></span></li><li><span><a href=\"#Load-MetaData\" data-toc-modified-id=\"Load-MetaData-2\"><span class=\"toc-item-num\">2&nbsp;&nbsp;</span>Load MetaData</a></span></li><li><span><a href=\"#Create-Dataframe-based-on-the-'Group'-label\" data-toc-modified-id=\"Create-Dataframe-based-on-the-'Group'-label-3\"><span class=\"toc-item-num\">3&nbsp;&nbsp;</span>Create Dataframe based on the 'Group' label</a></span><ul class=\"toc-item\"><li><span><a href=\"#Group-AD\" data-toc-modified-id=\"Group-AD-3.1\"><span class=\"toc-item-num\">3.1&nbsp;&nbsp;</span>Group AD</a></span></li><li><span><a href=\"#Group-CN\" data-toc-modified-id=\"Group-CN-3.2\"><span class=\"toc-item-num\">3.2&nbsp;&nbsp;</span>Group CN</a></span></li><li><span><a href=\"#Group-MCI\" data-toc-modified-id=\"Group-MCI-3.3\"><span class=\"toc-item-num\">3.3&nbsp;&nbsp;</span>Group MCI</a></span></li></ul></li><li><span><a href=\"#Create-new-folder-based-on-labels:-CN,-MCI-and-AD\" data-toc-modified-id=\"Create-new-folder-based-on-labels:-CN,-MCI-and-AD-4\"><span class=\"toc-item-num\">4&nbsp;&nbsp;</span>Create new folder based on labels: CN, MCI and AD</a></span></li><li><span><a href=\"#Split-the-images-in-their-specific-Folders\" data-toc-modified-id=\"Split-the-images-in-their-specific-Folders-5\"><span class=\"toc-item-num\">5&nbsp;&nbsp;</span>Split the images in their specific Folders</a></span><ul class=\"toc-item\"><li><span><a href=\"#Image-path\" data-toc-modified-id=\"Image-path-5.1\"><span class=\"toc-item-num\">5.1&nbsp;&nbsp;</span>Image path</a></span></li><li><span><a href=\"#Split-the-images-in-specifics-folders-based-on-their-image-data-ID\" data-toc-modified-id=\"Split-the-images-in-specifics-folders-based-on-their-image-data-ID-5.2\"><span class=\"toc-item-num\">5.2&nbsp;&nbsp;</span>Split the images in specifics folders based on their image data ID</a></span><ul class=\"toc-item\"><li><span><a href=\"#Create-3-empty-path-for-images-(AD,-CN,-MCI)\" data-toc-modified-id=\"Create-3-empty-path-for-images-(AD,-CN,-MCI)-5.2.1\"><span class=\"toc-item-num\">5.2.1&nbsp;&nbsp;</span>Create 3 empty path for images (AD, CN, MCI)</a></span></li><li><span><a href=\"#Correlate-MetaData-and-Images-by-the-'Image-Data-ID'\" data-toc-modified-id=\"Correlate-MetaData-and-Images-by-the-'Image-Data-ID'-5.2.2\"><span class=\"toc-item-num\">5.2.2&nbsp;&nbsp;</span>Correlate MetaData and Images by the 'Image Data ID'</a></span></li><li><span><a href=\"#Copy-the-images-in-the-specific-folder\" data-toc-modified-id=\"Copy-the-images-in-the-specific-folder-5.2.3\"><span class=\"toc-item-num\">5.2.3&nbsp;&nbsp;</span>Copy the images in the specific folder</a></span></li></ul></li></ul></li></ul></div>"
   ]
  },
  {
   "cell_type": "markdown",
   "metadata": {},
   "source": [
    "# Intro"
   ]
  },
  {
   "cell_type": "markdown",
   "metadata": {},
   "source": [
    "The purpose of this notebook is to organoze the images into differents folders based on their label. The label is found in the 'Group' column on the metadata csv. The 'Image Data ID' allows  the correlation between images and metadata. "
   ]
  },
  {
   "cell_type": "code",
   "execution_count": 1,
   "metadata": {},
   "outputs": [],
   "source": [
    "import os \n",
    "import shutil\n",
    "import pandas as pd\n",
    "import numpy as np\n",
    "import glob2"
   ]
  },
  {
   "cell_type": "markdown",
   "metadata": {},
   "source": [
    "# Load MetaData"
   ]
  },
  {
   "cell_type": "code",
   "execution_count": 2,
   "metadata": {},
   "outputs": [
    {
     "data": {
      "text/html": [
       "<div>\n",
       "<style scoped>\n",
       "    .dataframe tbody tr th:only-of-type {\n",
       "        vertical-align: middle;\n",
       "    }\n",
       "\n",
       "    .dataframe tbody tr th {\n",
       "        vertical-align: top;\n",
       "    }\n",
       "\n",
       "    .dataframe thead th {\n",
       "        text-align: right;\n",
       "    }\n",
       "</style>\n",
       "<table border=\"1\" class=\"dataframe\">\n",
       "  <thead>\n",
       "    <tr style=\"text-align: right;\">\n",
       "      <th></th>\n",
       "      <th>Image Data ID</th>\n",
       "      <th>Subject</th>\n",
       "      <th>Group</th>\n",
       "      <th>Sex</th>\n",
       "      <th>Age</th>\n",
       "      <th>Visit</th>\n",
       "      <th>Modality</th>\n",
       "      <th>Description</th>\n",
       "      <th>Type</th>\n",
       "      <th>Acq Date</th>\n",
       "      <th>Format</th>\n",
       "      <th>Downloaded</th>\n",
       "    </tr>\n",
       "  </thead>\n",
       "  <tbody>\n",
       "    <tr>\n",
       "      <th>0</th>\n",
       "      <td>I143856</td>\n",
       "      <td>136_S_1227</td>\n",
       "      <td>MCI</td>\n",
       "      <td>F</td>\n",
       "      <td>67</td>\n",
       "      <td>6</td>\n",
       "      <td>MRI</td>\n",
       "      <td>MPR; ; N3; Scaled</td>\n",
       "      <td>Processed</td>\n",
       "      <td>3/23/2009</td>\n",
       "      <td>NiFTI</td>\n",
       "      <td>NaN</td>\n",
       "    </tr>\n",
       "    <tr>\n",
       "      <th>1</th>\n",
       "      <td>I99265</td>\n",
       "      <td>136_S_1227</td>\n",
       "      <td>MCI</td>\n",
       "      <td>F</td>\n",
       "      <td>66</td>\n",
       "      <td>4</td>\n",
       "      <td>MRI</td>\n",
       "      <td>MPR; ; N3; Scaled</td>\n",
       "      <td>Processed</td>\n",
       "      <td>3/06/2008</td>\n",
       "      <td>NiFTI</td>\n",
       "      <td>NaN</td>\n",
       "    </tr>\n",
       "    <tr>\n",
       "      <th>2</th>\n",
       "      <td>I66824</td>\n",
       "      <td>136_S_1227</td>\n",
       "      <td>MCI</td>\n",
       "      <td>F</td>\n",
       "      <td>65</td>\n",
       "      <td>2</td>\n",
       "      <td>MRI</td>\n",
       "      <td>MPR; ; N3; Scaled</td>\n",
       "      <td>Processed</td>\n",
       "      <td>2/21/2007</td>\n",
       "      <td>NiFTI</td>\n",
       "      <td>NaN</td>\n",
       "    </tr>\n",
       "    <tr>\n",
       "      <th>3</th>\n",
       "      <td>I40404</td>\n",
       "      <td>136_S_0579</td>\n",
       "      <td>MCI</td>\n",
       "      <td>F</td>\n",
       "      <td>66</td>\n",
       "      <td>2</td>\n",
       "      <td>MRI</td>\n",
       "      <td>MPR-R; ; N3; Scaled</td>\n",
       "      <td>Processed</td>\n",
       "      <td>7/10/2006</td>\n",
       "      <td>NiFTI</td>\n",
       "      <td>NaN</td>\n",
       "    </tr>\n",
       "    <tr>\n",
       "      <th>4</th>\n",
       "      <td>I119735</td>\n",
       "      <td>136_S_0579</td>\n",
       "      <td>MCI</td>\n",
       "      <td>F</td>\n",
       "      <td>66</td>\n",
       "      <td>2</td>\n",
       "      <td>MRI</td>\n",
       "      <td>MPR-R; ; N3; Scaled_2</td>\n",
       "      <td>Processed</td>\n",
       "      <td>7/10/2006</td>\n",
       "      <td>NiFTI</td>\n",
       "      <td>NaN</td>\n",
       "    </tr>\n",
       "  </tbody>\n",
       "</table>\n",
       "</div>"
      ],
      "text/plain": [
       "  Image Data ID     Subject Group Sex  Age  Visit Modality  \\\n",
       "0       I143856  136_S_1227   MCI   F   67      6      MRI   \n",
       "1        I99265  136_S_1227   MCI   F   66      4      MRI   \n",
       "2        I66824  136_S_1227   MCI   F   65      2      MRI   \n",
       "3        I40404  136_S_0579   MCI   F   66      2      MRI   \n",
       "4       I119735  136_S_0579   MCI   F   66      2      MRI   \n",
       "\n",
       "             Description       Type   Acq Date Format Downloaded  \n",
       "0      MPR; ; N3; Scaled  Processed  3/23/2009  NiFTI        NaN  \n",
       "1      MPR; ; N3; Scaled  Processed  3/06/2008  NiFTI        NaN  \n",
       "2      MPR; ; N3; Scaled  Processed  2/21/2007  NiFTI        NaN  \n",
       "3    MPR-R; ; N3; Scaled  Processed  7/10/2006  NiFTI        NaN  \n",
       "4  MPR-R; ; N3; Scaled_2  Processed  7/10/2006  NiFTI        NaN  "
      ]
     },
     "execution_count": 2,
     "metadata": {},
     "output_type": "execute_result"
    }
   ],
   "source": [
    "#Import csv with patients informations\n",
    "data = pd.read_csv('../data/ADNI_data/ADNI1_Annual_2_Yr_3T_8_21_2020.csv')\n",
    "data.head(5)"
   ]
  },
  {
   "cell_type": "code",
   "execution_count": 3,
   "metadata": {},
   "outputs": [
    {
     "data": {
      "text/plain": [
       "(306, 12)"
      ]
     },
     "execution_count": 3,
     "metadata": {},
     "output_type": "execute_result"
    }
   ],
   "source": [
    "data.shape"
   ]
  },
  {
   "cell_type": "markdown",
   "metadata": {},
   "source": [
    "# Create Dataframe based on the 'Group' label \n",
    "There are three groups: \n",
    "* CN = control\n",
    "* AD = dementia\n",
    "* MCI = Mild Cogntive Impairement "
   ]
  },
  {
   "cell_type": "markdown",
   "metadata": {},
   "source": [
    "## Group AD"
   ]
  },
  {
   "cell_type": "code",
   "execution_count": 4,
   "metadata": {},
   "outputs": [
    {
     "data": {
      "text/plain": [
       "(58, 12)"
      ]
     },
     "execution_count": 4,
     "metadata": {},
     "output_type": "execute_result"
    }
   ],
   "source": [
    "adni_patients_AD = data.loc[data['Group'] == 'AD']\n",
    "adni_patients_AD.shape"
   ]
  },
  {
   "cell_type": "markdown",
   "metadata": {},
   "source": [
    "## Group CN"
   ]
  },
  {
   "cell_type": "code",
   "execution_count": 5,
   "metadata": {},
   "outputs": [
    {
     "data": {
      "text/plain": [
       "(115, 12)"
      ]
     },
     "execution_count": 5,
     "metadata": {},
     "output_type": "execute_result"
    }
   ],
   "source": [
    "adni_patients_CN = data.loc[data['Group'] == 'CN']\n",
    "adni_patients_CN.shape"
   ]
  },
  {
   "cell_type": "markdown",
   "metadata": {},
   "source": [
    "## Group MCI"
   ]
  },
  {
   "cell_type": "code",
   "execution_count": 6,
   "metadata": {},
   "outputs": [
    {
     "data": {
      "text/plain": [
       "(133, 12)"
      ]
     },
     "execution_count": 6,
     "metadata": {},
     "output_type": "execute_result"
    }
   ],
   "source": [
    "adni_patients_MCI = data.loc[data['Group'] == 'MCI']\n",
    "adni_patients_MCI.shape"
   ]
  },
  {
   "cell_type": "markdown",
   "metadata": {},
   "source": [
    "# Create new folder based on labels: CN, MCI and AD"
   ]
  },
  {
   "cell_type": "code",
   "execution_count": 7,
   "metadata": {},
   "outputs": [],
   "source": [
    "if not os.path.exists('../data/sample/AD'):\n",
    "    os.makedirs('../data/sample/AD')\n",
    "    \n",
    "if not os.path.exists('../data/sample/CN'):\n",
    "    os.makedirs('../data/sample/CN')\n",
    "    \n",
    "if not os.path.exists('../data/sample/MCI'):\n",
    "    os.makedirs('../data/sample/MCI')"
   ]
  },
  {
   "cell_type": "markdown",
   "metadata": {},
   "source": [
    "# Split the images in their specific Folders"
   ]
  },
  {
   "cell_type": "markdown",
   "metadata": {},
   "source": [
    "## Image path"
   ]
  },
  {
   "cell_type": "code",
   "execution_count": 8,
   "metadata": {},
   "outputs": [],
   "source": [
    "master_dir = os.path.join('../data/ADNI_data/ADNI1_Annual_2_Yr_3T/images')\n",
    "adni_data = glob2.glob(master_dir + '/**/*.nii')"
   ]
  },
  {
   "cell_type": "markdown",
   "metadata": {},
   "source": [
    "## Split the images in specifics folders based on their image data ID"
   ]
  },
  {
   "cell_type": "markdown",
   "metadata": {},
   "source": [
    "### Create 3 empty path for images (AD, CN, MCI)"
   ]
  },
  {
   "cell_type": "code",
   "execution_count": 9,
   "metadata": {},
   "outputs": [],
   "source": [
    "path_images_AD = []\n",
    "path_images_CN = []\n",
    "path_images_MCI = []"
   ]
  },
  {
   "cell_type": "markdown",
   "metadata": {},
   "source": [
    "### Correlate MetaData and Images by the 'Image Data ID'"
   ]
  },
  {
   "cell_type": "code",
   "execution_count": 10,
   "metadata": {},
   "outputs": [],
   "source": [
    "#for every images in the list\n",
    "for adni in adni_data: \n",
    "    #look at the image id on the image name\n",
    "    img_id = adni.split('_')[-1].split('.')[0]\n",
    "    #print(img_id)\n",
    "    #if the image id is in the AD dataframe\n",
    "    if img_id in adni_patients_AD['Image Data ID'].tolist():\n",
    "        #put it in the AD folder\n",
    "        path_images_AD.append(adni)\n",
    "    #And if the image id is in the CN dataframe\n",
    "    elif img_id in adni_patients_CN['Image Data ID'].tolist():\n",
    "        #put it in the CN folder\n",
    "        path_images_CN.append(adni)\n",
    "    # and if the image id is in the MCI dataframe\n",
    "    elif img_id in adni_patients_MCI['Image Data ID'].tolist():\n",
    "        #put it in the MCI folder\n",
    "        path_images_MCI.append(adni)"
   ]
  },
  {
   "cell_type": "markdown",
   "metadata": {},
   "source": [
    "### Copy the images in the specific folder        "
   ]
  },
  {
   "cell_type": "code",
   "execution_count": 12,
   "metadata": {},
   "outputs": [],
   "source": [
    "for path_image in path_images_AD:\n",
    "    filePath = shutil.copy(path_image, '../data/sample/AD')\n",
    "    \n",
    "for path_image in path_images_CN:\n",
    "    filePath = shutil.copy(path_image, '../data/sample/CN')\n",
    "\n",
    "for path_image in path_images_MCI:\n",
    "    filePath = shutil.copy(path_image, '../data/sample/MCI')\n",
    "        "
   ]
  },
  {
   "cell_type": "code",
   "execution_count": null,
   "metadata": {},
   "outputs": [],
   "source": []
  }
 ],
 "metadata": {
  "kernelspec": {
   "display_name": "Python 3",
   "language": "python",
   "name": "python3"
  },
  "language_info": {
   "codemirror_mode": {
    "name": "ipython",
    "version": 3
   },
   "file_extension": ".py",
   "mimetype": "text/x-python",
   "name": "python",
   "nbconvert_exporter": "python",
   "pygments_lexer": "ipython3",
   "version": "3.7.9"
  },
  "toc": {
   "base_numbering": 1,
   "nav_menu": {},
   "number_sections": true,
   "sideBar": true,
   "skip_h1_title": false,
   "title_cell": "Table of Contents",
   "title_sidebar": "Contents",
   "toc_cell": true,
   "toc_position": {
    "height": "calc(100% - 180px)",
    "left": "10px",
    "top": "150px",
    "width": "165px"
   },
   "toc_section_display": true,
   "toc_window_display": true
  }
 },
 "nbformat": 4,
 "nbformat_minor": 4
}
