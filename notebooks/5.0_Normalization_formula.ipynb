{
 "cells": [
  {
   "cell_type": "markdown",
   "metadata": {},
   "source": [
    "# Intro\n",
    "\n",
    "Apply normalization to re-shaped images"
   ]
  },
  {
   "cell_type": "markdown",
   "metadata": {},
   "source": [
    "# Setup "
   ]
  },
  {
   "cell_type": "code",
   "execution_count": 1,
   "metadata": {
    "cell_style": "center"
   },
   "outputs": [],
   "source": [
    "import os\n",
    "import matplotlib.pyplot as plt\n",
    "import pandas as pd\n",
    "import numpy as np\n",
    "\n",
    "import skimage\n",
    "from skimage import transform\n",
    "\n",
    "%matplotlib inline"
   ]
  },
  {
   "cell_type": "markdown",
   "metadata": {},
   "source": [
    "# Images path"
   ]
  },
  {
   "cell_type": "code",
   "execution_count": 2,
   "metadata": {},
   "outputs": [],
   "source": [
    "ad_data_dir='C:/Users/s.ciappelloni/Documents/projet_final/chef-doeuvre-Beatrix84/data/sample/processed2/AD'\n",
    "cn_data_dir='C:/Users/s.ciappelloni/Documents/projet_final/chef-doeuvre-Beatrix84/data/sample/processed2/CN'\n",
    "mci_data_dir='C:/Users/s.ciappelloni/Documents/projet_final/chef-doeuvre-Beatrix84/data/sample/processed2/MCI'"
   ]
  },
  {
   "cell_type": "markdown",
   "metadata": {},
   "source": [
    "# Normalization\n",
    "\n",
    "I would normalize between -0.5 and 0.5"
   ]
  },
  {
   "cell_type": "markdown",
   "metadata": {},
   "source": [
    "## Load images and define \n",
    "* total number of pixels in the image\n",
    "* mean of the pixels in the image\n",
    "* maximum value of pixels in the image"
   ]
  },
  {
   "cell_type": "code",
   "execution_count": 3,
   "metadata": {},
   "outputs": [
    {
     "name": "stdout",
     "output_type": "stream",
     "text": [
      "138.47423081579004\n",
      "5184.964121795549\n"
     ]
    }
   ],
   "source": [
    "totalnum=[]         #total number of pixels in the image\n",
    "mean=[]             #mean of the pixels in the image\n",
    "nummax=[]           #maximum value of pixels in the image\n",
    "\n",
    "converted_shape = (21,42,42)\n",
    "\n",
    "#For AD data\n",
    "for file in os.listdir(ad_data_dir):\n",
    "    # call load_data with allow_pickle implicitly set to true\n",
    "    img = np.load(os.path.join(ad_data_dir,file),allow_pickle=True) \n",
    "    #Confiem that images are shaped\n",
    "    if(img[0][0].shape != converted_shape):\n",
    "        img[0][0] = skimage.transform.resize(img[0][0], converted_shape)\n",
    "        np.save(os.path.join(ad_data_dir,file),img)\n",
    "    #Pixels Mean  \n",
    "    mean.append(np.mean(img[0][0]))\n",
    "    #Total pixels\n",
    "    totalnum.append((img[0][0].shape[0]*img[0][0].shape[1]*img[0][0].shape[2]))\n",
    "    #Max pixels\n",
    "    nummax.append(np.max(img[0][0]))\n",
    "\n",
    "    #For CN data    \n",
    "for file in os.listdir(cn_data_dir):\n",
    "    img = np.load(os.path.join(cn_data_dir, file),allow_pickle=True)\n",
    "    if(img[0][0].shape != converted_shape):\n",
    "        img[0][0] = skimage.transform.resize(img[0][0], converted_shape)\n",
    "        np.save(os.path.join(cn_data_dir,file),img)\n",
    "    \n",
    "    mean.append(np.mean(img[0][0]))\n",
    "    totalnum.append((img[0][0].shape[0]*img[0][0].shape[1]*img[0][0].shape[2]))\n",
    "    nummax.append(np.max(img[0][0]))\n",
    "\n",
    "    #For MCI data    \n",
    "for file in os.listdir(mci_data_dir):\n",
    "    img = np.load(os.path.join(mci_data_dir, file),allow_pickle=True)\n",
    "    if(img[0][0].shape != converted_shape):\n",
    "        img[0][0] = skimage.transform.resize(img[0][0], converted_shape)\n",
    "        np.save(os.path.join(mci_data_dir,file),img)\n",
    "        \n",
    "    mean.append(np.mean(img[0][0]))\n",
    "    totalnum.append((img[0][0].shape[0]*img[0][0].shape[1]*img[0][0].shape[2]))\n",
    "    nummax.append(np.max(img[0][0]))\n",
    "\n",
    "#mean value for the full dataset\n",
    "nummean=np.vdot(mean,totalnum)/np.sum(totalnum) \n",
    "print(nummean)\n",
    "\n",
    "#max value for the full dataset\n",
    "nummax=np.max(nummax) \n",
    "print(nummax)"
   ]
  },
  {
   "cell_type": "markdown",
   "metadata": {},
   "source": [
    "## Apply normalization formula and save the new images\n",
    "\n",
    "(x-mean / max value)"
   ]
  },
  {
   "cell_type": "code",
   "execution_count": 4,
   "metadata": {},
   "outputs": [],
   "source": [
    "# Save the new images\n",
    "for file in os.listdir(ad_data_dir):\n",
    "    img = np.load(os.path.join(ad_data_dir,file),allow_pickle=True)\n",
    "    #normalisation(x-mean/max value)\n",
    "    img[0][0]=(img[0][0]-nummean)/nummax                 \n",
    "    np.save(os.path.join(ad_data_dir,file),img)\n",
    "for file in os.listdir(cn_data_dir):\n",
    "    img = np.load(os.path.join(cn_data_dir, file),allow_pickle=True)\n",
    "    img[0][0] =(img[0][0] - nummean) / nummax\n",
    "    np.save(os.path.join(cn_data_dir,file),img)\n",
    "for file in os.listdir(mci_data_dir):\n",
    "    img = np.load(os.path.join(mci_data_dir, file),allow_pickle=True)\n",
    "    img[0][0] =(img[0][0] - nummean) / nummax\n",
    "    np.save(os.path.join(mci_data_dir, file),img)"
   ]
  },
  {
   "cell_type": "markdown",
   "metadata": {},
   "source": [
    "# Visualize normalized images"
   ]
  },
  {
   "cell_type": "code",
   "execution_count": 5,
   "metadata": {},
   "outputs": [
    {
     "data": {
      "text/plain": [
       "<matplotlib.image.AxesImage at 0x21525042508>"
      ]
     },
     "execution_count": 5,
     "metadata": {},
     "output_type": "execute_result"
    },
    {
     "data": {
      "image/png": "[encoded data removed]",
      "text/plain": [
       "<Figure size 432x432 with 4 Axes>"
      ]
     },
     "metadata": {
      "needs_background": "light"
     },
     "output_type": "display_data"
    }
   ],
   "source": [
    "datanp=[]                               #images\n",
    "truenp=[]                               #labels\n",
    "\n",
    "data_dir = 'C:/Users/s.ciappelloni/Documents/projet_final/chef-doeuvre-Beatrix84/data/sample/processed2/CN'\n",
    "for file in os.listdir(data_dir):\n",
    "    data=np.load(os.path.join(data_dir,file),allow_pickle=True)\n",
    "    datanp.append((data[0][0]))\n",
    "    truenp.append(data[0][1])\n",
    "    \n",
    "img = datanp[0]  # loading the image\n",
    "\n",
    "fig, axs1 = plt.subplots(2, 2,figsize= (6,6))\n",
    "\n",
    "fig.suptitle('Image resized to'+str(img.shape))\n",
    "i = 7\n",
    "axs1[0, 0].imshow(img[i])\n",
    "\n",
    "axs1[0, 1].imshow(img[i+1])\n",
    "\n",
    "axs1[1, 0].imshow(img[i+2])\n",
    "\n",
    "axs1[1, 1].imshow(img[i+3])\n"
   ]
  },
  {
   "cell_type": "code",
   "execution_count": 6,
   "metadata": {},
   "outputs": [
    {
     "data": {
      "text/plain": [
       "array([[[-0.02670658, -0.02670688, -0.02670677, ..., -0.02670679,\n",
       "         -0.02670688, -0.02670688],\n",
       "        [-0.02669753, -0.02670653, -0.02670233, ..., -0.02670579,\n",
       "         -0.02670683, -0.0267067 ],\n",
       "        [-0.02670467, -0.02670674, -0.02670593, ..., -0.02670669,\n",
       "         -0.02670683, -0.02670672],\n",
       "        ...,\n",
       "        [-0.02670592, -0.02670616, -0.02668301, ..., -0.02670654,\n",
       "         -0.0267068 , -0.02670386],\n",
       "        [-0.02670688, -0.02670672, -0.02668344, ..., -0.02670675,\n",
       "         -0.02670685, -0.02670634],\n",
       "        [-0.02670688, -0.02670688, -0.02670602, ..., -0.02670687,\n",
       "         -0.02670688, -0.02670688]],\n",
       "\n",
       "       [[-0.02670681, -0.02670688, -0.02670678, ..., -0.02670678,\n",
       "         -0.0267068 , -0.02670686],\n",
       "        [-0.02670422, -0.02670664, -0.02670298, ..., -0.02670502,\n",
       "         -0.02670451, -0.02670551],\n",
       "        [-0.02670614, -0.02670678, -0.02670594, ..., -0.02670637,\n",
       "         -0.02670395, -0.02670485],\n",
       "        ...,\n",
       "        [-0.02670667, -0.02670552, -0.02670568, ..., -0.02670611,\n",
       "         -0.02670666, -0.02670274],\n",
       "        [-0.02670667, -0.02670321, -0.02670547, ..., -0.02670587,\n",
       "         -0.02670657, -0.02670557],\n",
       "        [-0.02670688, -0.02670673, -0.02670684, ..., -0.02670683,\n",
       "         -0.02670687, -0.02670688]],\n",
       "\n",
       "       [[-0.02670661, -0.02670686, -0.02670666, ..., -0.02670659,\n",
       "         -0.02670595, -0.02670673],\n",
       "        [-0.02669523, -0.02670577, -0.02669813, ..., -0.02670198,\n",
       "         -0.0266893 , -0.02670485],\n",
       "        [-0.02670367, -0.02670651, -0.02670254, ..., -0.02670445,\n",
       "         -0.02669161, -0.02670374],\n",
       "        ...,\n",
       "        [-0.02670603, -0.0266927 , -0.02670021, ..., -0.02669977,\n",
       "         -0.02670602, -0.0267068 ],\n",
       "        [-0.02670394, -0.02666472, -0.02669972, ..., -0.02668855,\n",
       "         -0.02670299, -0.02670684],\n",
       "        [-0.02670678, -0.026705  , -0.02670662, ..., -0.02670601,\n",
       "         -0.02670667, -0.02670688]],\n",
       "\n",
       "       ...,\n",
       "\n",
       "       [[-0.02670679, -0.02670627, -0.02670508, ..., -0.02670686,\n",
       "         -0.02670686, -0.02670688],\n",
       "        [-0.02670489, -0.02669348, -0.02666939, ..., -0.02670591,\n",
       "         -0.02670662, -0.02670684],\n",
       "        [-0.02669646, -0.02667651, -0.02666854, ..., -0.02670376,\n",
       "         -0.02670657, -0.02670585],\n",
       "        ...,\n",
       "        [-0.02670388, -0.02670162, -0.02667477, ..., -0.0267009 ,\n",
       "         -0.02669923, -0.02669819],\n",
       "        [-0.02670648, -0.02670616, -0.02670124, ..., -0.02670475,\n",
       "         -0.02670364, -0.02670603],\n",
       "        [-0.02670687, -0.02670686, -0.02670687, ..., -0.0267068 ,\n",
       "         -0.02670674, -0.02670688]],\n",
       "\n",
       "       [[-0.02670674, -0.0267067 , -0.02670653, ..., -0.02670682,\n",
       "         -0.02670688, -0.02670683],\n",
       "        [-0.02670381, -0.0267034 , -0.02670044, ..., -0.02670501,\n",
       "         -0.02670684, -0.02670638],\n",
       "        [-0.02670218, -0.02670145, -0.02670106, ..., -0.02670484,\n",
       "         -0.02670632, -0.0267063 ],\n",
       "        ...,\n",
       "        [-0.02670517, -0.02670191, -0.02668248, ..., -0.0266051 ,\n",
       "         -0.02667917, -0.02669597],\n",
       "        [-0.02670594, -0.02670268, -0.02670294, ..., -0.02670148,\n",
       "         -0.02670497, -0.02670624],\n",
       "        [-0.02670679, -0.02670667, -0.02670681, ..., -0.02670677,\n",
       "         -0.02670679, -0.02670688]],\n",
       "\n",
       "       [[-0.02670683, -0.02670658, -0.02670684, ..., -0.02670681,\n",
       "         -0.02670688, -0.02670688],\n",
       "        [-0.02670583, -0.02670184, -0.02670536, ..., -0.02670556,\n",
       "         -0.02670686, -0.02670682],\n",
       "        [-0.02670471, -0.0267057 , -0.02670582, ..., -0.02670581,\n",
       "         -0.0267068 , -0.02670687],\n",
       "        ...,\n",
       "        [-0.02668145, -0.02666968, -0.02649016, ..., -0.0260171 ,\n",
       "         -0.02651477, -0.02663877],\n",
       "        [-0.02670564, -0.02670599, -0.02669145, ..., -0.02667104,\n",
       "         -0.0266992 , -0.02670446],\n",
       "        [-0.02670682, -0.02670685, -0.0267063 , ..., -0.02670616,\n",
       "         -0.02670685, -0.02670686]]])"
      ]
     },
     "execution_count": 6,
     "metadata": {},
     "output_type": "execute_result"
    }
   ],
   "source": [
    "img"
   ]
  },
  {
   "cell_type": "markdown",
   "metadata": {},
   "source": [
    "Try this other formula too (X − minX / maxX − minX) − 0.5"
   ]
  },
  {
   "cell_type": "code",
   "execution_count": null,
   "metadata": {},
   "outputs": [],
   "source": []
  }
 ],
 "metadata": {
  "kernelspec": {
   "display_name": "Python 3",
   "language": "python",
   "name": "python3"
  },
  "language_info": {
   "codemirror_mode": {
    "name": "ipython",
    "version": 3
   },
   "file_extension": ".py",
   "mimetype": "text/x-python",
   "name": "python",
   "nbconvert_exporter": "python",
   "pygments_lexer": "ipython3",
   "version": "3.7.9"
  },
  "toc": {
   "base_numbering": 1,
   "nav_menu": {},
   "number_sections": true,
   "sideBar": true,
   "skip_h1_title": false,
   "title_cell": "Table of Contents",
   "title_sidebar": "Contents",
   "toc_cell": false,
   "toc_position": {},
   "toc_section_display": true,
   "toc_window_display": false
  }
 },
 "nbformat": 4,
 "nbformat_minor": 4
}
